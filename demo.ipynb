{
 "cells": [
  {
   "cell_type": "code",
   "execution_count": 1,
   "metadata": {},
   "outputs": [
    {
     "name": "stdout",
     "output_type": "stream",
     "text": [
      "[0, 1, 2, 3, 4, 5, 6, 7, 0, 1, 2, 3, 4, 5, 6, 7]\n"
     ]
    }
   ],
   "source": [
    "from sequentor.flist import FList\n",
    "\n",
    "my_lst = FList([7,8])\n",
    "\n",
    "l = my_lst\\\n",
    ".map(lambda x: x + 2)\\\n",
    ".flatMap(lambda x: list(range(0, x)))\\\n",
    ".filter(lambda x: x < 8)\n",
    "\n",
    "print(l)\n"
   ]
  },
  {
   "cell_type": "code",
   "execution_count": 2,
   "metadata": {},
   "outputs": [
    {
     "name": "stdout",
     "output_type": "stream",
     "text": [
      "10\n",
      "|\n",
      "+---+>   / 5\n",
      "    |\n",
      "    +---+>   + 43\n",
      "        |\n",
      "        +---+>   - 11 \n",
      "\n",
      "34.0\n"
     ]
    }
   ],
   "source": [
    "from sequentor.sequentor import sequentor as seq\n",
    "\n",
    "my_seq = seq(state = 10)\n",
    "my_seq.add_action(\" / 5\")\n",
    "my_seq.add_action(\" + 43\").add_action(\" - 11 \")\n",
    "my_seq.show_graph()\n",
    "print(my_seq.evaluate())"
   ]
  },
  {
   "cell_type": "code",
   "execution_count": 3,
   "metadata": {},
   "outputs": [
    {
     "name": "stdout",
     "output_type": "stream",
     "text": [
      "('this', 1)\n",
      "('is', 2)\n",
      "('just', 1)\n",
      "('a', 1)\n",
      "('simple', 6)\n",
      "('text', 3)\n",
      "('about', 1)\n",
      "('with', 1)\n",
      "('some', 1)\n",
      "('very', 1)\n",
      "('well', 1)\n",
      "('maybe', 1)\n",
      "('it', 1)\n",
      "('not', 1)\n",
      "('that', 1)\n",
      "('much', 1)\n",
      "('but', 1)\n",
      "('still', 1)\n",
      "('relatively', 1)\n"
     ]
    }
   ],
   "source": [
    "from sequentor.sequentor import sequentor as sq\n",
    "from sequentor.flist import FList\n",
    "\n",
    "txt = '\\\n",
    "This is just a simple Simple text about simple \\\n",
    "text with some very simple text \\\n",
    "well \\\n",
    "maybe it is not that much simple \\\n",
    "but still relatively simple'\n",
    "\n",
    "counter = sq(state = FList([txt]))\n",
    "\n",
    "counter.add_action(\".flatMap(lambda x : x.split())\")\\\n",
    ".add_action(\".map(lambda x: x.lower())\")\\\n",
    ".add_action(\".map(lambda x: (x, 1))\")\\\n",
    ".add_action(\".reduceByKey()\")\n",
    "# reduceByKey supports only \"+\" now\n",
    "\n",
    "\n",
    "counter.evaluate().foreach(print)"
   ]
  }
 ],
 "metadata": {
  "kernelspec": {
   "display_name": "Python 3",
   "language": "python",
   "name": "python3"
  },
  "language_info": {
   "codemirror_mode": {
    "name": "ipython",
    "version": 3
   },
   "file_extension": ".py",
   "mimetype": "text/x-python",
   "name": "python",
   "nbconvert_exporter": "python",
   "pygments_lexer": "ipython3",
   "version": "3.6.1"
  }
 },
 "nbformat": 4,
 "nbformat_minor": 2
}
